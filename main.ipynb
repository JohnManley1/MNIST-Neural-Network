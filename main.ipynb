{
 "cells": [
  {
   "cell_type": "markdown",
   "id": "ae3d4676-a5cb-4b62-80e0-11c652aa0c27",
   "metadata": {},
   "source": [
    "# Testing My Neural Network on MNIST Handwritten Digits"
   ]
  },
  {
   "cell_type": "markdown",
   "id": "b3207761-8851-48dc-b842-88334c3b44cd",
   "metadata": {},
   "source": [
    " ### 1. Importing"
   ]
  },
  {
   "cell_type": "code",
   "execution_count": 1,
   "id": "fe7f9623-e4a0-4778-a2da-f89efc305733",
   "metadata": {},
   "outputs": [
    {
     "name": "stderr",
     "output_type": "stream",
     "text": [
      "2025-07-10 00:06:21.496616: I tensorflow/core/platform/cpu_feature_guard.cc:210] This TensorFlow binary is optimized to use available CPU instructions in performance-critical operations.\n",
      "To enable the following instructions: AVX2 AVX512F AVX512_VNNI FMA, in other operations, rebuild TensorFlow with the appropriate compiler flags.\n"
     ]
    }
   ],
   "source": [
    "import numpy as np\n",
    "import my_NN as nn\n",
    "from tensorflow.keras.datasets import mnist\n",
    "import matplotlib.pyplot as plt"
   ]
  },
  {
   "cell_type": "markdown",
   "id": "27bbd232-2562-453d-a224-79c59a7e125f",
   "metadata": {},
   "source": [
    "### 2. Processing Data"
   ]
  },
  {
   "cell_type": "code",
   "execution_count": 2,
   "id": "7e65aa55-c968-4c57-a0cb-af9e09e8baa8",
   "metadata": {},
   "outputs": [],
   "source": [
    "# load MNIST datset\n",
    "(X_train, y_train), (X_test, y_test) = mnist.load_data()\n",
    "\n",
    "# Preprocess the data\n",
    "X_train = X_train.reshape(-1, 28 * 28).astype(\"float32\") / 255.0\n",
    "X_test = X_test.reshape(-1, 28 * 28).astype(\"float32\") / 255.0\n",
    "\n",
    "# Convert to list of column vectors\n",
    "X_train = [x.reshape(-1, 1) for x in X_train]\n",
    "X_test = [x.reshape(-1, 1) for x in X_test]"
   ]
  },
  {
   "cell_type": "code",
   "execution_count": 3,
   "id": "274184bf-bec0-43c7-aa79-163e8f518ac1",
   "metadata": {},
   "outputs": [],
   "source": [
    "# convert outputs from digit value to vector form\n",
    "def vector_convert(digit, num_digits=10):\n",
    "    vec = np.zeros((num_digits, 1))\n",
    "    vec[digit] = 1\n",
    "    return vec\n",
    "\n",
    "y_train = [vector_convert(y) for y in y_train]\n",
    "y_test = [vector_convert(y) for y in y_test]"
   ]
  },
  {
   "cell_type": "code",
   "execution_count": 4,
   "id": "c3b10c8f-5627-441b-b224-ec14d1c3266f",
   "metadata": {},
   "outputs": [],
   "source": [
    "def accuracy(X_batch, y_batch, model):\n",
    "    correct = 0\n",
    "    for X, y in zip(X_batch, y_batch):\n",
    "        output = model.forward(X)\n",
    "        prediction = np.argmax(output)\n",
    "        answer = np.argmax(y)\n",
    "        if prediction == answer:\n",
    "            correct += 1\n",
    "    return correct / len(X_batch)"
   ]
  },
  {
   "cell_type": "markdown",
   "id": "89646585-3717-4c74-8da0-93b352ad12c0",
   "metadata": {},
   "source": [
    "### 3. Initializing Neural Network"
   ]
  },
  {
   "cell_type": "code",
   "execution_count": 5,
   "id": "dc40d319-12db-4847-9392-dd01446ada49",
   "metadata": {},
   "outputs": [],
   "source": [
    "NN = nn.Neural_Network(n_inputs=784, # each pixel\n",
    "                       n_outputs=10, # number of digits\n",
    "                       hidden_layers=2, \n",
    "                       hidden_size=64,\n",
    "                       hidden_activation=nn.ReLU(), \n",
    "                       output_activation=nn.Softmax(), # digit probabilities\n",
    "                       learning_rate=0.03)"
   ]
  },
  {
   "cell_type": "code",
   "execution_count": 6,
   "id": "ff2c69f9-a2e0-415e-9515-0bbdf625c359",
   "metadata": {},
   "outputs": [
    {
     "name": "stdout",
     "output_type": "stream",
     "text": [
      "Epoch: 0, Loss: 2.3028, Accuracy: 0.0982\n"
     ]
    }
   ],
   "source": [
    "# pre test\n",
    "loss_data = []\n",
    "acc_data = []\n",
    "\n",
    "loss = NN.test(X_test, y_test)\n",
    "acc = accuracy(X_test, y_test, NN)\n",
    "print(f'Epoch: 0, Loss: {loss:.4f}, Accuracy: {acc:.4f}')\n",
    "\n",
    "# start recording loss and accuracy\n",
    "loss_data.append(loss)\n",
    "acc_data.append(acc)"
   ]
  },
  {
   "cell_type": "markdown",
   "id": "13b6f861-3e33-4abe-988e-96f36ad96398",
   "metadata": {},
   "source": [
    "### 4. Training and Testing Neural Network"
   ]
  },
  {
   "cell_type": "code",
   "execution_count": 7,
   "id": "bb26bf4a-3440-4fad-86ab-4a867f20aaad",
   "metadata": {},
   "outputs": [
    {
     "name": "stdout",
     "output_type": "stream",
     "text": [
      "Epoch: 1, Loss: 0.8999, Accuracy: 0.6976\n",
      "Epoch: 2, Loss: 0.4068, Accuracy: 0.8763\n",
      "Epoch: 3, Loss: 0.2876, Accuracy: 0.9113\n",
      "Epoch: 4, Loss: 0.2279, Accuracy: 0.9296\n",
      "Epoch: 5, Loss: 0.1918, Accuracy: 0.9409\n",
      "Epoch: 6, Loss: 0.1647, Accuracy: 0.9499\n",
      "Epoch: 7, Loss: 0.1509, Accuracy: 0.9536\n",
      "Epoch: 8, Loss: 0.1362, Accuracy: 0.9589\n",
      "Epoch: 9, Loss: 0.1253, Accuracy: 0.9632\n",
      "Epoch: 10, Loss: 0.1188, Accuracy: 0.9657\n",
      "Epoch: 11, Loss: 0.1123, Accuracy: 0.9673\n",
      "Epoch: 12, Loss: 0.1091, Accuracy: 0.9682\n",
      "Epoch: 13, Loss: 0.1053, Accuracy: 0.9687\n",
      "Epoch: 14, Loss: 0.1037, Accuracy: 0.9694\n",
      "Epoch: 15, Loss: 0.1030, Accuracy: 0.9697\n",
      "Epoch: 16, Loss: 0.1027, Accuracy: 0.9705\n",
      "Epoch: 17, Loss: 0.1021, Accuracy: 0.9707\n",
      "Epoch: 18, Loss: 0.1013, Accuracy: 0.9710\n",
      "Epoch: 19, Loss: 0.1009, Accuracy: 0.9712\n",
      "Epoch: 20, Loss: 0.1010, Accuracy: 0.9714\n"
     ]
    }
   ],
   "source": [
    "# Train the neural network\n",
    "batch_size = 32\n",
    "epochs = 20\n",
    "for epoch in range(epochs):\n",
    "    for i in range(0, len(X_train), batch_size):\n",
    "        X_batch = X_train[i: i + batch_size]\n",
    "        y_batch = y_train[i: i + batch_size]\n",
    "\n",
    "        NN.train(X_batch, y_batch)\n",
    "\n",
    "    # test the neural network after each epoch training\n",
    "    loss = NN.test(X_test, y_test)\n",
    "    acc = accuracy(X_test, y_test, NN)\n",
    "    # print and record loss and accuracy\n",
    "    loss_data.append(loss)\n",
    "    acc_data.append(acc)\n",
    "    print(f'Epoch: {epoch+1}, Loss: {loss:.4f}, Accuracy: {acc:.4f}')"
   ]
  },
  {
   "cell_type": "markdown",
   "id": "c08601c2-4f85-46f5-a899-db381e45b088",
   "metadata": {},
   "source": [
    "### 5. Plotting and Discussing Results"
   ]
  },
  {
   "cell_type": "code",
   "execution_count": 8,
   "id": "ef7856f3-112b-4c06-a338-8b522dd733e8",
   "metadata": {},
   "outputs": [
    {
     "data": {
      "image/png": "[encoded data removed]",
      "text/plain": [
       "<Figure size 640x480 with 1 Axes>"
      ]
     },
     "metadata": {},
     "output_type": "display_data"
    }
   ],
   "source": [
    "fig1, ax1 = plt.subplots()\n",
    "\n",
    "ax1.plot(range(epochs+1), loss_data,\n",
    "         color='red',         # Line color\n",
    "         linestyle='-',       # '-', '--', '-.', ':'\n",
    "         linewidth=2,         # Thickness\n",
    "         marker='o',          # Marker at points\n",
    "         markersize=4,        # Size of markers\n",
    "         label='Loss')      # Label for legend\n",
    "\n",
    "ax1.set_title(\"Loss vs Epochs\")\n",
    "ax1.set_xlabel(\"Epoch\")\n",
    "ax1.set_ylabel(\"Loss\")\n",
    "ax1.legend()\n",
    "ax1.grid(True)\n",
    "plt.show()"
   ]
  },
  {
   "cell_type": "code",
   "execution_count": 9,
   "id": "513c10bf-b6f5-4034-9135-561ca6220669",
   "metadata": {},
   "outputs": [
    {
     "data": {
      "image/png": "[encoded data removed]",
      "text/plain": [
       "<Figure size 640x480 with 1 Axes>"
      ]
     },
     "metadata": {},
     "output_type": "display_data"
    }
   ],
   "source": [
    "fig2, ax2 = plt.subplots()\n",
    "\n",
    "ax2.plot(range(epochs+1), acc_data,\n",
    "         color='green',         # Line color\n",
    "         linestyle='-',       # '-', '--', '-.', ':'\n",
    "         linewidth=2,         # Thickness\n",
    "         marker='o',          # Marker at points\n",
    "         markersize=4,        # Size of markers\n",
    "         label='Accurcay')      # Label for legend\n",
    "\n",
    "ax2.set_title(\"Accuracy vs Epochs\")\n",
    "ax2.set_xlabel(\"Epoch\")\n",
    "ax2.set_ylabel(\"Accuracy\")\n",
    "ax2.legend()\n",
    "ax2.grid(True)\n",
    "plt.show()"
   ]
  },
  {
   "cell_type": "markdown",
   "id": "17e5b74a-29d3-4418-8762-6af56d723c81",
   "metadata": {},
   "source": [
    "#### Discussion\n",
    "My home made Neural Network (NN) from scratch was successful. The NN model was trained on MNIST handwritten digit data and it reached an accuracy score of **97.14%**. This means it correctly guesses the handwritten digit 97.14% of the time. The model also produced a minimum loss of **0.1010**.  \n",
    "\n",
    "The hyper parameter optimization process was not documented, but did have interesting results. For example, the model used 2 hidden layers as 1 layer only produced about $\\approx$ 90% accuracy while 3 or more layers got stuck at 11.38% accuracy. I speculate that the deeper NN's required more fine tuned intial weights and biases to avoid getting stuck at the local minimum they were hitting. Other hyper paramters include 32 batch size, 20 epochs, 64 layer size, 0.03 learning rate, and ReLU hidden activation. Some of these parameters were chosen to balance performance and realistic time constraints. I did not want the training process to exceed about 5 minutes.  \n",
    "\n",
    "Overall, the model using my homemade NN implementation performed well and can successfully classify MNIST handrwitten digits."
   ]
  },
  {
   "cell_type": "code",
   "execution_count": null,
   "id": "4e8c488f-8cc0-490a-8880-3dbde1895795",
   "metadata": {},
   "outputs": [],
   "source": []
  }
 ],
 "metadata": {
  "kernelspec": {
   "display_name": "Python [conda env:base] *",
   "language": "python",
   "name": "conda-base-py"
  },
  "language_info": {
   "codemirror_mode": {
    "name": "ipython",
    "version": 3
   },
   "file_extension": ".py",
   "mimetype": "text/x-python",
   "name": "python",
   "nbconvert_exporter": "python",
   "pygments_lexer": "ipython3",
   "version": "3.12.7"
  }
 },
 "nbformat": 4,
 "nbformat_minor": 5
}
